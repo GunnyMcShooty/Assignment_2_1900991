{
 "cells": [
  {
   "cell_type": "markdown",
   "id": "23fc533b",
   "metadata": {},
   "source": [
    "# Question 1"
   ]
  },
  {
   "cell_type": "code",
   "execution_count": 3,
   "id": "1649b72e",
   "metadata": {},
   "outputs": [],
   "source": [
    "import numpy as np"
   ]
  },
  {
   "cell_type": "code",
   "execution_count": 4,
   "id": "e93874a8",
   "metadata": {},
   "outputs": [],
   "source": [
    "#DONNÉES CONSOMMATION D'ÉNERGIE\n",
    "SRAM_READ    = 7.95\n",
    "SRAM_WRITE   = 5.45\n",
    "BUFFER_READ  = 0.42\n",
    "BUFFER_WRITE = 0.42\n",
    "MAC          = 0.56\n",
    "\n",
    "#DONNÉES HARDWARE\n",
    "SRAM_LD      = 32768\n",
    "SRAM_LW      = 8\n",
    "BUFFER_LD    = 64\n",
    "BUFFER_LW    = 8\n",
    "MAX_LW       = 8"
   ]
  },
  {
   "cell_type": "code",
   "execution_count": 7,
   "id": "59721494",
   "metadata": {},
   "outputs": [],
   "source": [
    "class energy_consumption:\n",
    "    \n",
    "    #Initialisation des données de la classe\n",
    "    def __init__(self):\n",
    "        self.total_sram_read    = 0\n",
    "        self.total_sram_write   = 0\n",
    "        self.total_buffer_read  = 0\n",
    "        self.total_buffer_write = 0\n",
    "        self.total_mac          = 0\n",
    "   \n",
    "    \n",
    "    #Fonction pour sommer l'énergie utilisé par les opérations\n",
    "    def counter(self, sram_read, sram_write, buffer_read, buffer_write, mac_operation):\n",
    "        self.total_sram_read    += sram_read\n",
    "        self.total_sram_write   += sram_write\n",
    "        self.total_buffer_read  += buffer_read\n",
    "        self.total_buffer_write += buffer_write\n",
    "        self.total_mac          += mac_operation\n",
    "    \n",
    "    def disp_result(self):    \n",
    "        energy_sram_read  = self.total_sram_read*SRAM_READ\n",
    "        energy_sram_write = self.total_sram_write*SRAM_WRITE\n",
    "        energy_buffer_read = self.total_buffer_read*BUFFER_READ\n",
    "        energy_buffer_write = self.total_buffer_write*BUFFER_WRITE\n",
    "        energy_mac = self.total_mac*MAC\n",
    "        print(\"Nombre de lectures SRAM     :\",self.total_sram_read)\n",
    "        print(\"Nombre d'écriture SRAM      :\",self.total_sram_write)\n",
    "        print(\"Nombre de lectures buffer   :\",self.total_buffer_read)\n",
    "        print(\"Nombre d'écriture buffer    :\",self.total_buffer_write)\n",
    "        print(\"Nombre de d'opérations MAC  :\",self.total_mac)\n",
    "        print(\"Énergie de lecture SRAM     :\",energy_sram_write,\"pJ\")\n",
    "        print(\"Énergie de lecture SRAM     :\",energy_sram_read,\"pJ\")\n",
    "        print(\"Énergie d'écriture BUFFER   :\",energy_buffer_read,\"pJ\")\n",
    "        print(\"Énergie d'écriture BUFFER   :\",energy_buffer_write,\"pJ\")\n",
    "        print(\"Énergie d'opération MAC     :\",energy_mac,\"pJ\")\n",
    "        print(\"Consommation total          :\",energy_sram_read+energy_sram_write+energy_buffer_read+energy_buffer_write+energy_mac,\"pJ\")\n",
    "    \n",
    "        \n",
    "    def q1_ws(self):\n",
    "        K1 = 16\n",
    "        K0 = 2\n",
    "        K = K1*K0\n",
    "        P = 16\n",
    "        R = 3\n",
    "        for k1 in range(K1):   \n",
    "            #Je peux loader tous les inputs en même temps car ils sont tous utilisé\n",
    "            self.counter(P+R-1, 0, 0, P+R-1,0)\n",
    "            for r in range(R):\n",
    "                #Loading des poids: 2 à la fois en raison de la limite de K0\n",
    "                self.counter(2, 0, 0, 2, 0)\n",
    "                for k0 in range(K0):\n",
    "                    \n",
    "                    #Rien à faire, déja loadé\n",
    "                    for p in range(P):\n",
    "                        if r == 0:\n",
    "                            self.counter(0, 0, 0,2,0) #Aller tout checher et écrire dans le buffer\n",
    "                        else:\n",
    "                            self.counter(0, 0, 1,1,0) #Juste besoin d'aller en chercher 1, car k et r ne sont pas update\n",
    "                        self.counter(0, 0, 2,0,1) #Lecture ancien output, écriture output, mac\n",
    "            self.counter(0,K0*P, 0,0,0) #Stocker les résultats\n",
    "    def q1_os_u_1(self):\n",
    "        K = 32\n",
    "        P = 16\n",
    "        R = 3\n",
    "        for k in range(K):\n",
    "            self.counter(P+R-1, 0, 0, P+R-1, 0) #Load les inputs\n",
    "            self.counter(R, 0 , 0, R, 0) #Le nombre de poids est limité par R\n",
    "            for p in range(P):\n",
    "                for r in range(R):\n",
    "                    if r == 0:\n",
    "                        self.counter(0, 0, 0,2,0) #Aller tout checher et écrire dans le buffer\n",
    "                    else:\n",
    "                        self.counter(0, 0, 2,0,0) #Juste besoin d'aller en chercher 1, car k et r ne sont pas update\n",
    "                    self.counter(0, 0, 1,1,1) #Lecture ancien output, écriture output, mac\n",
    "            self.counter(0,16,0,0,0) #Stocker les résultats (grosseur du résultat du buffer est juste P)\n",
    "            \n",
    "    def q1_os_u_2(self):\n",
    "        P = 16\n",
    "        K = 32\n",
    "        R = 3\n",
    "        for p in range(P):\n",
    "            self.counter(R,0,0,R,0) #Il ne peut y avoir que trois input à la fois dans le buffer\n",
    "            for k in range(K):\n",
    "                self.counter(R,0,0,R,0) #Le nombre de poids est limité par R\n",
    "                for r in range(R):\n",
    "                    if r == 0:\n",
    "                        self.counter(0, 0, 0,2,0) #Aller tout checher et écrire dans le buffer\n",
    "                    else:\n",
    "                        self.counter(0, 0, 1,1,0) #Juste besoin d'aller en chercher 1, car k et r ne sont pas update\n",
    "                    self.counter(0, 0, 2,0,1) #Lecture et mac\n",
    "            self.counter(0,K,0,0,0) #Il n'y a qu'un p à la fois dans le buffer (lié au K)\n",
    "                \n",
    "    def q1_os_t_1(self):\n",
    "        K1 = 4\n",
    "        K0 = 8\n",
    "        P  = 16\n",
    "        R  = 3\n",
    "        print(R*K0)\n",
    "        for k1 in range(K1):\n",
    "            self.counter(R+P-1, 0, 0, R+P-1, 0) #Tous les inputs peuvent être dans le buffer\n",
    "            self.counter(R*K0, 0, 0, R*K0, 0) #Tous les poids dans le buffer\n",
    "            for p in range(P):\n",
    "                for k2 in range(K0):\n",
    "                    for r in range(R):\n",
    "                        if r == 0:\n",
    "                            self.counter(0, 0, 0,2,0) #Aller tout checher et écrire dans le buffer\n",
    "                        else:\n",
    "                            self.counter(0, 0, 1,1,0) #Juste besoin d'aller en chercher 1, car k et r ne sont pas update\n",
    "                        self.counter(0, 0, 2,0,1) #Lecture et mac\n",
    "            self.counter(0,K0*P,0,0,0)\n",
    "            \n",
    "    def q1_os_t_2(self):\n",
    "        P1 = 2\n",
    "        P0 = 8\n",
    "        R  = 3\n",
    "        K  = 32\n",
    "        for p1 in range(P1):\n",
    "            self.counter(P0+R-1, 0,0, P0+R-1,0)\n",
    "            for k in range(K):\n",
    "                self.counter(R,0,0,R,0)\n",
    "                for p0 in range(P0):\n",
    "                    for r in range(R):\n",
    "                        if r == 0:\n",
    "                            self.counter(0, 0, 0,2,0) #Aller tout checher et écrire dans le buffer\n",
    "                        else:\n",
    "                            self.counter(0, 0, 1,1,0) #Juste besoin d'aller en chercher 1, car k et r ne sont pas update\n",
    "                        self.counter(0, 0, 2,0,1) #Lecture et mac\n",
    "            self.counter(0,P0*K,0,0,0) #Fait déborder le buffer? Peut-être mais là ça marche so j'y touche pu"
   ]
  },
  {
   "cell_type": "code",
   "execution_count": 6,
   "id": "55cc3c61",
   "metadata": {},
   "outputs": [
    {
     "name": "stdout",
     "output_type": "stream",
     "text": [
      "Nombre de lectures SRAM     : 384\n",
      "Nombre d'écriture SRAM      : 512\n",
      "Nombre de lectures buffer   : 4096\n",
      "Nombre d'écriture buffer    : 2432\n",
      "Nombre de d'opérations MAC  : 1536\n",
      "Énergie de lecture SRAM     : 3052.8 pJ\n",
      "Énergie d'écriture SRAM     : 2790.4 pJ\n",
      "Énergie de lecture BUFFER   : 1720.32 pJ\n",
      "Énergie d'écriture BUFFER   : 1021.4399999999999 pJ\n",
      "Énergie d'opération MAC     : 860.1600000000001 pJ\n",
      "Consommation total          : 9445.12 pJ\n"
     ]
    }
   ],
   "source": [
    "weight_stationnary = energy_consumption()\n",
    "\n",
    "weight_stationnary.q1_ws()\n",
    "weight_stationnary.disp_result()"
   ]
  },
  {
   "cell_type": "code",
   "execution_count": 89,
   "id": "402e2965",
   "metadata": {},
   "outputs": [
    {
     "name": "stdout",
     "output_type": "stream",
     "text": [
      "Nombre de lectures SRAM     : 672\n",
      "Nombre d'écriture SRAM      : 512\n",
      "Nombre de lectures buffer   : 3584\n",
      "Nombre d'écriture buffer    : 3232\n",
      "Nombre de d'opérations MAC  : 1536\n",
      "Énergie de lecture SRAM     : 5342.400000000001 pJ\n",
      "Énergie d'écriture SRAM     : 2790.4 pJ\n",
      "Énergie de lecture BUFFER   : 1505.28 pJ\n",
      "Énergie d'écriture BUFFER   : 1357.44 pJ\n",
      "Énergie d'opération MAC     : 860.1600000000001 pJ\n",
      "Consommation total          : 11855.680000000002 pJ\n"
     ]
    }
   ],
   "source": [
    "output_stationnary_1 = energy_consumption()\n",
    "output_stationnary_1.q1_os_u_1()\n",
    "output_stationnary_1.disp_result()"
   ]
  },
  {
   "cell_type": "code",
   "execution_count": 8,
   "id": "5cf258ab",
   "metadata": {},
   "outputs": [
    {
     "name": "stdout",
     "output_type": "stream",
     "text": [
      "Nombre de lectures SRAM     : 1584\n",
      "Nombre d'écriture SRAM      : 512\n",
      "Nombre de lectures buffer   : 4096\n",
      "Nombre d'écriture buffer    : 3632\n",
      "Nombre de d'opérations MAC  : 1536\n",
      "Énergie de lecture SRAM     : 2790.4 pJ\n",
      "Énergie de lecture SRAM     : 12592.800000000001 pJ\n",
      "Énergie d'écriture BUFFER   : 1720.32 pJ\n",
      "Énergie d'écriture BUFFER   : 1525.44 pJ\n",
      "Énergie d'opération MAC     : 860.1600000000001 pJ\n",
      "Consommation total          : 19489.12 pJ\n"
     ]
    }
   ],
   "source": [
    "output_stationnary_2 = energy_consumption()\n",
    "output_stationnary_2.q1_os_u_2()\n",
    "output_stationnary_2.disp_result()"
   ]
  },
  {
   "cell_type": "code",
   "execution_count": 91,
   "id": "a52e9f01",
   "metadata": {},
   "outputs": [
    {
     "name": "stdout",
     "output_type": "stream",
     "text": [
      "24\n",
      "Nombre de lectures SRAM     : 168\n",
      "Nombre d'écriture SRAM      : 512\n",
      "Nombre de lectures buffer   : 4096\n",
      "Nombre d'écriture buffer    : 2216\n",
      "Nombre de d'opérations MAC  : 1536\n",
      "Énergie de lecture SRAM     : 1335.6000000000001 pJ\n",
      "Énergie d'écriture SRAM     : 2790.4 pJ\n",
      "Énergie de lecture BUFFER   : 1720.32 pJ\n",
      "Énergie d'écriture BUFFER   : 930.7199999999999 pJ\n",
      "Énergie d'opération MAC     : 860.1600000000001 pJ\n",
      "Consommation total          : 7637.2 pJ\n"
     ]
    }
   ],
   "source": [
    "output_stationnary_t_1 = energy_consumption()\n",
    "output_stationnary_t_1.q1_os_t_1()\n",
    "output_stationnary_t_1.disp_result()"
   ]
  },
  {
   "cell_type": "code",
   "execution_count": 92,
   "id": "81df5f4a",
   "metadata": {},
   "outputs": [
    {
     "name": "stdout",
     "output_type": "stream",
     "text": [
      "Nombre de lectures SRAM     : 212\n",
      "Nombre d'écriture SRAM      : 512\n",
      "Nombre de lectures buffer   : 4096\n",
      "Nombre d'écriture buffer    : 2260\n",
      "Nombre de d'opérations MAC  : 1536\n",
      "Énergie de lecture SRAM     : 1685.4 pJ\n",
      "Énergie d'écriture SRAM     : 2790.4 pJ\n",
      "Énergie de lecture BUFFER   : 1720.32 pJ\n",
      "Énergie d'écriture BUFFER   : 949.1999999999999 pJ\n",
      "Énergie d'opération MAC     : 860.1600000000001 pJ\n",
      "Consommation total          : 8005.48 pJ\n"
     ]
    }
   ],
   "source": [
    "output_stationnary_t_2 = energy_consumption()\n",
    "output_stationnary_t_2.q1_os_t_2()\n",
    "output_stationnary_t_2.disp_result()"
   ]
  },
  {
   "cell_type": "markdown",
   "id": "be29e62f",
   "metadata": {},
   "source": [
    "# Q2"
   ]
  },
  {
   "cell_type": "code",
   "execution_count": null,
   "id": "948d6ec1",
   "metadata": {},
   "outputs": [],
   "source": [
    "for k in range(K):\n",
    "    \n",
    "    for p in range(P):\n",
    "        for r in range(R):"
   ]
  }
 ],
 "metadata": {
  "kernelspec": {
   "display_name": "Python 3 (ipykernel)",
   "language": "python",
   "name": "python3"
  },
  "language_info": {
   "codemirror_mode": {
    "name": "ipython",
    "version": 3
   },
   "file_extension": ".py",
   "mimetype": "text/x-python",
   "name": "python",
   "nbconvert_exporter": "python",
   "pygments_lexer": "ipython3",
   "version": "3.8.10"
  }
 },
 "nbformat": 4,
 "nbformat_minor": 5
}
